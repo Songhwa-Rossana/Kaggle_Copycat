{
 "cells": [
  {
   "cell_type": "code",
   "execution_count": 1,
   "id": "a6ce885d",
   "metadata": {
    "_cell_guid": "b1076dfc-b9ad-4769-8c92-a6c4dae69d19",
    "_uuid": "8f2839f25d086af736a60e9eeb907d3b93b6e0e5",
    "execution": {
     "iopub.execute_input": "2024-12-18T18:07:56.970006Z",
     "iopub.status.busy": "2024-12-18T18:07:56.969620Z",
     "iopub.status.idle": "2024-12-18T18:07:57.719842Z",
     "shell.execute_reply": "2024-12-18T18:07:57.718697Z"
    },
    "papermill": {
     "duration": 0.762164,
     "end_time": "2024-12-18T18:07:57.722332",
     "exception": false,
     "start_time": "2024-12-18T18:07:56.960168",
     "status": "completed"
    },
    "tags": []
   },
   "outputs": [
    {
     "name": "stdout",
     "output_type": "stream",
     "text": [
      "/kaggle/input/playground-series-s4e12/sample_submission.csv\n",
      "/kaggle/input/playground-series-s4e12/train.csv\n",
      "/kaggle/input/playground-series-s4e12/test.csv\n"
     ]
    }
   ],
   "source": [
    "# This Python 3 environment comes with many helpful analytics libraries installed\n",
    "# It is defined by the kaggle/python Docker image: https://github.com/kaggle/docker-python\n",
    "# For example, here's several helpful packages to load\n",
    "\n",
    "import numpy as np # linear algebra\n",
    "import pandas as pd # data processing, CSV file I/O (e.g. pd.read_csv)\n",
    "\n",
    "# Input data files are available in the read-only \"../input/\" directory\n",
    "# For example, running this (by clicking run or pressing Shift+Enter) will list all files under the input directory\n",
    "\n",
    "import os\n",
    "for dirname, _, filenames in os.walk('/kaggle/input'):\n",
    "    for filename in filenames:\n",
    "        print(os.path.join(dirname, filename))\n",
    "\n",
    "# You can write up to 20GB to the current directory (/kaggle/working/) that gets preserved as output when you create a version using \"Save & Run All\" \n",
    "# You can also write temporary files to /kaggle/temp/, but they won't be saved outside of the current session"
   ]
  },
  {
   "cell_type": "code",
   "execution_count": 2,
   "id": "3e7bc7c4",
   "metadata": {
    "execution": {
     "iopub.execute_input": "2024-12-18T18:07:57.731981Z",
     "iopub.status.busy": "2024-12-18T18:07:57.731503Z",
     "iopub.status.idle": "2024-12-18T18:08:00.010708Z",
     "shell.execute_reply": "2024-12-18T18:08:00.009539Z"
    },
    "papermill": {
     "duration": 2.286677,
     "end_time": "2024-12-18T18:08:00.013188",
     "exception": false,
     "start_time": "2024-12-18T18:07:57.726511",
     "status": "completed"
    },
    "tags": []
   },
   "outputs": [],
   "source": [
    "import pandas as pd\n",
    "import numpy as np\n",
    "import matplotlib.pyplot as plt\n",
    "import seaborn as sns\n",
    "from sklearn.model_selection import train_test_split\n",
    "from sklearn.impute import SimpleImputer\n",
    "from sklearn.preprocessing import StandardScaler, OneHotEncoder\n",
    "from sklearn.compose import ColumnTransformer\n",
    "from sklearn.pipeline import Pipeline\n",
    "from sklearn.ensemble import RandomForestRegressor\n",
    "from xgboost import XGBRegressor\n",
    "from sklearn.metrics import mean_squared_log_error"
   ]
  },
  {
   "cell_type": "code",
   "execution_count": 3,
   "id": "a73f435d",
   "metadata": {
    "execution": {
     "iopub.execute_input": "2024-12-18T18:08:00.023321Z",
     "iopub.status.busy": "2024-12-18T18:08:00.022191Z",
     "iopub.status.idle": "2024-12-18T18:08:10.769122Z",
     "shell.execute_reply": "2024-12-18T18:08:10.768190Z"
    },
    "papermill": {
     "duration": 10.75454,
     "end_time": "2024-12-18T18:08:10.771662",
     "exception": false,
     "start_time": "2024-12-18T18:08:00.017122",
     "status": "completed"
    },
    "tags": []
   },
   "outputs": [],
   "source": [
    "train = pd.read_csv('/kaggle/input/playground-series-s4e12/train.csv')\n",
    "test = pd.read_csv('/kaggle/input/playground-series-s4e12/test.csv')"
   ]
  },
  {
   "cell_type": "code",
   "execution_count": 4,
   "id": "6fe537d3",
   "metadata": {
    "execution": {
     "iopub.execute_input": "2024-12-18T18:08:10.781194Z",
     "iopub.status.busy": "2024-12-18T18:08:10.780428Z",
     "iopub.status.idle": "2024-12-18T18:08:12.774193Z",
     "shell.execute_reply": "2024-12-18T18:08:12.773008Z"
    },
    "papermill": {
     "duration": 2.001056,
     "end_time": "2024-12-18T18:08:12.776660",
     "exception": false,
     "start_time": "2024-12-18T18:08:10.775604",
     "status": "completed"
    },
    "tags": []
   },
   "outputs": [
    {
     "name": "stdout",
     "output_type": "stream",
     "text": [
      "<class 'pandas.core.frame.DataFrame'>\n",
      "RangeIndex: 1200000 entries, 0 to 1199999\n",
      "Data columns (total 21 columns):\n",
      " #   Column                Non-Null Count    Dtype  \n",
      "---  ------                --------------    -----  \n",
      " 0   id                    1200000 non-null  int64  \n",
      " 1   Age                   1181295 non-null  float64\n",
      " 2   Gender                1200000 non-null  object \n",
      " 3   Annual Income         1155051 non-null  float64\n",
      " 4   Marital Status        1181471 non-null  object \n",
      " 5   Number of Dependents  1090328 non-null  float64\n",
      " 6   Education Level       1200000 non-null  object \n",
      " 7   Occupation            841925 non-null   object \n",
      " 8   Health Score          1125924 non-null  float64\n",
      " 9   Location              1200000 non-null  object \n",
      " 10  Policy Type           1200000 non-null  object \n",
      " 11  Previous Claims       835971 non-null   float64\n",
      " 12  Vehicle Age           1199994 non-null  float64\n",
      " 13  Credit Score          1062118 non-null  float64\n",
      " 14  Insurance Duration    1199999 non-null  float64\n",
      " 15  Policy Start Date     1200000 non-null  object \n",
      " 16  Customer Feedback     1122176 non-null  object \n",
      " 17  Smoking Status        1200000 non-null  object \n",
      " 18  Exercise Frequency    1200000 non-null  object \n",
      " 19  Property Type         1200000 non-null  object \n",
      " 20  Premium Amount        1200000 non-null  float64\n",
      "dtypes: float64(9), int64(1), object(11)\n",
      "memory usage: 192.3+ MB\n",
      "None\n",
      "                 id           Age  Annual Income  Number of Dependents  \\\n",
      "count  1.200000e+06  1.181295e+06   1.155051e+06          1.090328e+06   \n",
      "mean   5.999995e+05  4.114556e+01   3.274522e+04          2.009934e+00   \n",
      "std    3.464103e+05  1.353995e+01   3.217951e+04          1.417338e+00   \n",
      "min    0.000000e+00  1.800000e+01   1.000000e+00          0.000000e+00   \n",
      "25%    2.999998e+05  3.000000e+01   8.001000e+03          1.000000e+00   \n",
      "50%    5.999995e+05  4.100000e+01   2.391100e+04          2.000000e+00   \n",
      "75%    8.999992e+05  5.300000e+01   4.463400e+04          3.000000e+00   \n",
      "max    1.199999e+06  6.400000e+01   1.499970e+05          4.000000e+00   \n",
      "\n",
      "       Health Score  Previous Claims   Vehicle Age  Credit Score  \\\n",
      "count  1.125924e+06    835971.000000  1.199994e+06  1.062118e+06   \n",
      "mean   2.561391e+01         1.002689  9.569889e+00  5.929244e+02   \n",
      "std    1.220346e+01         0.982840  5.776189e+00  1.499819e+02   \n",
      "min    2.012237e+00         0.000000  0.000000e+00  3.000000e+02   \n",
      "25%    1.591896e+01         0.000000  5.000000e+00  4.680000e+02   \n",
      "50%    2.457865e+01         1.000000  1.000000e+01  5.950000e+02   \n",
      "75%    3.452721e+01         2.000000  1.500000e+01  7.210000e+02   \n",
      "max    5.897591e+01         9.000000  1.900000e+01  8.490000e+02   \n",
      "\n",
      "       Insurance Duration  Premium Amount  \n",
      "count        1.199999e+06    1.200000e+06  \n",
      "mean         5.018219e+00    1.102545e+03  \n",
      "std          2.594331e+00    8.649989e+02  \n",
      "min          1.000000e+00    2.000000e+01  \n",
      "25%          3.000000e+00    5.140000e+02  \n",
      "50%          5.000000e+00    8.720000e+02  \n",
      "75%          7.000000e+00    1.509000e+03  \n",
      "max          9.000000e+00    4.999000e+03  \n",
      "id                           0\n",
      "Age                      18705\n",
      "Gender                       0\n",
      "Annual Income            44949\n",
      "Marital Status           18529\n",
      "Number of Dependents    109672\n",
      "Education Level              0\n",
      "Occupation              358075\n",
      "Health Score             74076\n",
      "Location                     0\n",
      "Policy Type                  0\n",
      "Previous Claims         364029\n",
      "Vehicle Age                  6\n",
      "Credit Score            137882\n",
      "Insurance Duration           1\n",
      "Policy Start Date            0\n",
      "Customer Feedback        77824\n",
      "Smoking Status               0\n",
      "Exercise Frequency           0\n",
      "Property Type                0\n",
      "Premium Amount               0\n",
      "dtype: int64\n"
     ]
    }
   ],
   "source": [
    "print(train.info())\n",
    "print(train.describe())\n",
    "print(train.isnull().sum())"
   ]
  },
  {
   "cell_type": "code",
   "execution_count": 5,
   "id": "b36ebc78",
   "metadata": {
    "execution": {
     "iopub.execute_input": "2024-12-18T18:08:12.786979Z",
     "iopub.status.busy": "2024-12-18T18:08:12.786143Z",
     "iopub.status.idle": "2024-12-18T18:08:12.790931Z",
     "shell.execute_reply": "2024-12-18T18:08:12.789879Z"
    },
    "papermill": {
     "duration": 0.01214,
     "end_time": "2024-12-18T18:08:12.792924",
     "exception": false,
     "start_time": "2024-12-18T18:08:12.780784",
     "status": "completed"
    },
    "tags": []
   },
   "outputs": [],
   "source": [
    "target = 'Premium Amount'\n",
    "id_col = 'id'"
   ]
  },
  {
   "cell_type": "code",
   "execution_count": 6,
   "id": "a0cc9d04",
   "metadata": {
    "execution": {
     "iopub.execute_input": "2024-12-18T18:08:12.803882Z",
     "iopub.status.busy": "2024-12-18T18:08:12.803459Z",
     "iopub.status.idle": "2024-12-18T18:08:12.978807Z",
     "shell.execute_reply": "2024-12-18T18:08:12.977750Z"
    },
    "papermill": {
     "duration": 0.184224,
     "end_time": "2024-12-18T18:08:12.981305",
     "exception": false,
     "start_time": "2024-12-18T18:08:12.797081",
     "status": "completed"
    },
    "tags": []
   },
   "outputs": [],
   "source": [
    "X = train.drop(columns=[target, id_col])\n",
    "y = train[target]"
   ]
  },
  {
   "cell_type": "code",
   "execution_count": 7,
   "id": "44f3cf5b",
   "metadata": {
    "execution": {
     "iopub.execute_input": "2024-12-18T18:08:12.991543Z",
     "iopub.status.busy": "2024-12-18T18:08:12.991100Z",
     "iopub.status.idle": "2024-12-18T18:08:13.202402Z",
     "shell.execute_reply": "2024-12-18T18:08:13.201444Z"
    },
    "papermill": {
     "duration": 0.219273,
     "end_time": "2024-12-18T18:08:13.204840",
     "exception": false,
     "start_time": "2024-12-18T18:08:12.985567",
     "status": "completed"
    },
    "tags": []
   },
   "outputs": [],
   "source": [
    "num_features = X.select_dtypes(include=['int64', 'float64']).columns\n",
    "cat_features = X.select_dtypes(include=['object']).columns\n",
    "\n",
    "num_transformer = Pipeline(steps=[\n",
    "    ('imputer', SimpleImputer(strategy='median')),\n",
    "    ('scaler', StandardScaler())\n",
    "])\n",
    "\n",
    "cat_transformer = Pipeline(steps=[\n",
    "    ('imputer', SimpleImputer(strategy='most_frequent')),\n",
    "    ('onehot', OneHotEncoder(handle_unknown='ignore'))\n",
    "])\n",
    "\n",
    "preprocessor = ColumnTransformer(\n",
    "    transformers=[\n",
    "        ('num', num_transformer, num_features),\n",
    "        ('cat', cat_transformer, cat_features)\n",
    "    ])\n"
   ]
  },
  {
   "cell_type": "code",
   "execution_count": 8,
   "id": "d5db4c64",
   "metadata": {
    "execution": {
     "iopub.execute_input": "2024-12-18T18:08:13.214786Z",
     "iopub.status.busy": "2024-12-18T18:08:13.213902Z",
     "iopub.status.idle": "2024-12-18T18:08:14.350890Z",
     "shell.execute_reply": "2024-12-18T18:08:14.349809Z"
    },
    "papermill": {
     "duration": 1.144539,
     "end_time": "2024-12-18T18:08:14.353430",
     "exception": false,
     "start_time": "2024-12-18T18:08:13.208891",
     "status": "completed"
    },
    "tags": []
   },
   "outputs": [],
   "source": [
    "X_train, X_val, y_train, y_val = train_test_split(X, y, test_size=0.2, random_state=42)"
   ]
  },
  {
   "cell_type": "code",
   "execution_count": 9,
   "id": "8bacbd95",
   "metadata": {
    "execution": {
     "iopub.execute_input": "2024-12-18T18:08:14.363121Z",
     "iopub.status.busy": "2024-12-18T18:08:14.362726Z",
     "iopub.status.idle": "2024-12-18T18:08:14.367959Z",
     "shell.execute_reply": "2024-12-18T18:08:14.366895Z"
    },
    "papermill": {
     "duration": 0.012605,
     "end_time": "2024-12-18T18:08:14.370150",
     "exception": false,
     "start_time": "2024-12-18T18:08:14.357545",
     "status": "completed"
    },
    "tags": []
   },
   "outputs": [],
   "source": [
    "model = Pipeline(steps=[\n",
    "    ('preprocessor', preprocessor),\n",
    "    ('regressor', XGBRegressor(n_estimators=100, learning_rate=0.1, random_state=42))\n",
    "])"
   ]
  },
  {
   "cell_type": "code",
   "execution_count": 10,
   "id": "aebeddb0",
   "metadata": {
    "execution": {
     "iopub.execute_input": "2024-12-18T18:08:14.379975Z",
     "iopub.status.busy": "2024-12-18T18:08:14.379599Z",
     "iopub.status.idle": "2024-12-18T18:08:53.438165Z",
     "shell.execute_reply": "2024-12-18T18:08:53.437036Z"
    },
    "papermill": {
     "duration": 39.070484,
     "end_time": "2024-12-18T18:08:53.444659",
     "exception": false,
     "start_time": "2024-12-18T18:08:14.374175",
     "status": "completed"
    },
    "tags": []
   },
   "outputs": [
    {
     "data": {
      "text/html": [
       "<style>#sk-container-id-1 {color: black;background-color: white;}#sk-container-id-1 pre{padding: 0;}#sk-container-id-1 div.sk-toggleable {background-color: white;}#sk-container-id-1 label.sk-toggleable__label {cursor: pointer;display: block;width: 100%;margin-bottom: 0;padding: 0.3em;box-sizing: border-box;text-align: center;}#sk-container-id-1 label.sk-toggleable__label-arrow:before {content: \"▸\";float: left;margin-right: 0.25em;color: #696969;}#sk-container-id-1 label.sk-toggleable__label-arrow:hover:before {color: black;}#sk-container-id-1 div.sk-estimator:hover label.sk-toggleable__label-arrow:before {color: black;}#sk-container-id-1 div.sk-toggleable__content {max-height: 0;max-width: 0;overflow: hidden;text-align: left;background-color: #f0f8ff;}#sk-container-id-1 div.sk-toggleable__content pre {margin: 0.2em;color: black;border-radius: 0.25em;background-color: #f0f8ff;}#sk-container-id-1 input.sk-toggleable__control:checked~div.sk-toggleable__content {max-height: 200px;max-width: 100%;overflow: auto;}#sk-container-id-1 input.sk-toggleable__control:checked~label.sk-toggleable__label-arrow:before {content: \"▾\";}#sk-container-id-1 div.sk-estimator input.sk-toggleable__control:checked~label.sk-toggleable__label {background-color: #d4ebff;}#sk-container-id-1 div.sk-label input.sk-toggleable__control:checked~label.sk-toggleable__label {background-color: #d4ebff;}#sk-container-id-1 input.sk-hidden--visually {border: 0;clip: rect(1px 1px 1px 1px);clip: rect(1px, 1px, 1px, 1px);height: 1px;margin: -1px;overflow: hidden;padding: 0;position: absolute;width: 1px;}#sk-container-id-1 div.sk-estimator {font-family: monospace;background-color: #f0f8ff;border: 1px dotted black;border-radius: 0.25em;box-sizing: border-box;margin-bottom: 0.5em;}#sk-container-id-1 div.sk-estimator:hover {background-color: #d4ebff;}#sk-container-id-1 div.sk-parallel-item::after {content: \"\";width: 100%;border-bottom: 1px solid gray;flex-grow: 1;}#sk-container-id-1 div.sk-label:hover label.sk-toggleable__label {background-color: #d4ebff;}#sk-container-id-1 div.sk-serial::before {content: \"\";position: absolute;border-left: 1px solid gray;box-sizing: border-box;top: 0;bottom: 0;left: 50%;z-index: 0;}#sk-container-id-1 div.sk-serial {display: flex;flex-direction: column;align-items: center;background-color: white;padding-right: 0.2em;padding-left: 0.2em;position: relative;}#sk-container-id-1 div.sk-item {position: relative;z-index: 1;}#sk-container-id-1 div.sk-parallel {display: flex;align-items: stretch;justify-content: center;background-color: white;position: relative;}#sk-container-id-1 div.sk-item::before, #sk-container-id-1 div.sk-parallel-item::before {content: \"\";position: absolute;border-left: 1px solid gray;box-sizing: border-box;top: 0;bottom: 0;left: 50%;z-index: -1;}#sk-container-id-1 div.sk-parallel-item {display: flex;flex-direction: column;z-index: 1;position: relative;background-color: white;}#sk-container-id-1 div.sk-parallel-item:first-child::after {align-self: flex-end;width: 50%;}#sk-container-id-1 div.sk-parallel-item:last-child::after {align-self: flex-start;width: 50%;}#sk-container-id-1 div.sk-parallel-item:only-child::after {width: 0;}#sk-container-id-1 div.sk-dashed-wrapped {border: 1px dashed gray;margin: 0 0.4em 0.5em 0.4em;box-sizing: border-box;padding-bottom: 0.4em;background-color: white;}#sk-container-id-1 div.sk-label label {font-family: monospace;font-weight: bold;display: inline-block;line-height: 1.2em;}#sk-container-id-1 div.sk-label-container {text-align: center;}#sk-container-id-1 div.sk-container {/* jupyter's `normalize.less` sets `[hidden] { display: none; }` but bootstrap.min.css set `[hidden] { display: none !important; }` so we also need the `!important` here to be able to override the default hidden behavior on the sphinx rendered scikit-learn.org. See: https://github.com/scikit-learn/scikit-learn/issues/21755 */display: inline-block !important;position: relative;}#sk-container-id-1 div.sk-text-repr-fallback {display: none;}</style><div id=\"sk-container-id-1\" class=\"sk-top-container\"><div class=\"sk-text-repr-fallback\"><pre>Pipeline(steps=[(&#x27;preprocessor&#x27;,\n",
       "                 ColumnTransformer(transformers=[(&#x27;num&#x27;,\n",
       "                                                  Pipeline(steps=[(&#x27;imputer&#x27;,\n",
       "                                                                   SimpleImputer(strategy=&#x27;median&#x27;)),\n",
       "                                                                  (&#x27;scaler&#x27;,\n",
       "                                                                   StandardScaler())]),\n",
       "                                                  Index([&#x27;Age&#x27;, &#x27;Annual Income&#x27;, &#x27;Number of Dependents&#x27;, &#x27;Health Score&#x27;,\n",
       "       &#x27;Previous Claims&#x27;, &#x27;Vehicle Age&#x27;, &#x27;Credit Score&#x27;, &#x27;Insurance Duration&#x27;],\n",
       "      dtype=&#x27;object&#x27;)),\n",
       "                                                 (&#x27;cat&#x27;,\n",
       "                                                  Pipeline(steps=[(&#x27;imputer&#x27;,\n",
       "                                                                   SimpleImp...\n",
       "                              feature_types=None, gamma=None, grow_policy=None,\n",
       "                              importance_type=None,\n",
       "                              interaction_constraints=None, learning_rate=0.1,\n",
       "                              max_bin=None, max_cat_threshold=None,\n",
       "                              max_cat_to_onehot=None, max_delta_step=None,\n",
       "                              max_depth=None, max_leaves=None,\n",
       "                              min_child_weight=None, missing=nan,\n",
       "                              monotone_constraints=None, multi_strategy=None,\n",
       "                              n_estimators=100, n_jobs=None,\n",
       "                              num_parallel_tree=None, random_state=42, ...))])</pre><b>In a Jupyter environment, please rerun this cell to show the HTML representation or trust the notebook. <br />On GitHub, the HTML representation is unable to render, please try loading this page with nbviewer.org.</b></div><div class=\"sk-container\" hidden><div class=\"sk-item sk-dashed-wrapped\"><div class=\"sk-label-container\"><div class=\"sk-label sk-toggleable\"><input class=\"sk-toggleable__control sk-hidden--visually\" id=\"sk-estimator-id-1\" type=\"checkbox\" ><label for=\"sk-estimator-id-1\" class=\"sk-toggleable__label sk-toggleable__label-arrow\">Pipeline</label><div class=\"sk-toggleable__content\"><pre>Pipeline(steps=[(&#x27;preprocessor&#x27;,\n",
       "                 ColumnTransformer(transformers=[(&#x27;num&#x27;,\n",
       "                                                  Pipeline(steps=[(&#x27;imputer&#x27;,\n",
       "                                                                   SimpleImputer(strategy=&#x27;median&#x27;)),\n",
       "                                                                  (&#x27;scaler&#x27;,\n",
       "                                                                   StandardScaler())]),\n",
       "                                                  Index([&#x27;Age&#x27;, &#x27;Annual Income&#x27;, &#x27;Number of Dependents&#x27;, &#x27;Health Score&#x27;,\n",
       "       &#x27;Previous Claims&#x27;, &#x27;Vehicle Age&#x27;, &#x27;Credit Score&#x27;, &#x27;Insurance Duration&#x27;],\n",
       "      dtype=&#x27;object&#x27;)),\n",
       "                                                 (&#x27;cat&#x27;,\n",
       "                                                  Pipeline(steps=[(&#x27;imputer&#x27;,\n",
       "                                                                   SimpleImp...\n",
       "                              feature_types=None, gamma=None, grow_policy=None,\n",
       "                              importance_type=None,\n",
       "                              interaction_constraints=None, learning_rate=0.1,\n",
       "                              max_bin=None, max_cat_threshold=None,\n",
       "                              max_cat_to_onehot=None, max_delta_step=None,\n",
       "                              max_depth=None, max_leaves=None,\n",
       "                              min_child_weight=None, missing=nan,\n",
       "                              monotone_constraints=None, multi_strategy=None,\n",
       "                              n_estimators=100, n_jobs=None,\n",
       "                              num_parallel_tree=None, random_state=42, ...))])</pre></div></div></div><div class=\"sk-serial\"><div class=\"sk-item sk-dashed-wrapped\"><div class=\"sk-label-container\"><div class=\"sk-label sk-toggleable\"><input class=\"sk-toggleable__control sk-hidden--visually\" id=\"sk-estimator-id-2\" type=\"checkbox\" ><label for=\"sk-estimator-id-2\" class=\"sk-toggleable__label sk-toggleable__label-arrow\">preprocessor: ColumnTransformer</label><div class=\"sk-toggleable__content\"><pre>ColumnTransformer(transformers=[(&#x27;num&#x27;,\n",
       "                                 Pipeline(steps=[(&#x27;imputer&#x27;,\n",
       "                                                  SimpleImputer(strategy=&#x27;median&#x27;)),\n",
       "                                                 (&#x27;scaler&#x27;, StandardScaler())]),\n",
       "                                 Index([&#x27;Age&#x27;, &#x27;Annual Income&#x27;, &#x27;Number of Dependents&#x27;, &#x27;Health Score&#x27;,\n",
       "       &#x27;Previous Claims&#x27;, &#x27;Vehicle Age&#x27;, &#x27;Credit Score&#x27;, &#x27;Insurance Duration&#x27;],\n",
       "      dtype=&#x27;object&#x27;)),\n",
       "                                (&#x27;cat&#x27;,\n",
       "                                 Pipeline(steps=[(&#x27;imputer&#x27;,\n",
       "                                                  SimpleImputer(strategy=&#x27;most_frequent&#x27;)),\n",
       "                                                 (&#x27;onehot&#x27;,\n",
       "                                                  OneHotEncoder(handle_unknown=&#x27;ignore&#x27;))]),\n",
       "                                 Index([&#x27;Gender&#x27;, &#x27;Marital Status&#x27;, &#x27;Education Level&#x27;, &#x27;Occupation&#x27;, &#x27;Location&#x27;,\n",
       "       &#x27;Policy Type&#x27;, &#x27;Policy Start Date&#x27;, &#x27;Customer Feedback&#x27;,\n",
       "       &#x27;Smoking Status&#x27;, &#x27;Exercise Frequency&#x27;, &#x27;Property Type&#x27;],\n",
       "      dtype=&#x27;object&#x27;))])</pre></div></div></div><div class=\"sk-parallel\"><div class=\"sk-parallel-item\"><div class=\"sk-item\"><div class=\"sk-label-container\"><div class=\"sk-label sk-toggleable\"><input class=\"sk-toggleable__control sk-hidden--visually\" id=\"sk-estimator-id-3\" type=\"checkbox\" ><label for=\"sk-estimator-id-3\" class=\"sk-toggleable__label sk-toggleable__label-arrow\">num</label><div class=\"sk-toggleable__content\"><pre>Index([&#x27;Age&#x27;, &#x27;Annual Income&#x27;, &#x27;Number of Dependents&#x27;, &#x27;Health Score&#x27;,\n",
       "       &#x27;Previous Claims&#x27;, &#x27;Vehicle Age&#x27;, &#x27;Credit Score&#x27;, &#x27;Insurance Duration&#x27;],\n",
       "      dtype=&#x27;object&#x27;)</pre></div></div></div><div class=\"sk-serial\"><div class=\"sk-item\"><div class=\"sk-serial\"><div class=\"sk-item\"><div class=\"sk-estimator sk-toggleable\"><input class=\"sk-toggleable__control sk-hidden--visually\" id=\"sk-estimator-id-4\" type=\"checkbox\" ><label for=\"sk-estimator-id-4\" class=\"sk-toggleable__label sk-toggleable__label-arrow\">SimpleImputer</label><div class=\"sk-toggleable__content\"><pre>SimpleImputer(strategy=&#x27;median&#x27;)</pre></div></div></div><div class=\"sk-item\"><div class=\"sk-estimator sk-toggleable\"><input class=\"sk-toggleable__control sk-hidden--visually\" id=\"sk-estimator-id-5\" type=\"checkbox\" ><label for=\"sk-estimator-id-5\" class=\"sk-toggleable__label sk-toggleable__label-arrow\">StandardScaler</label><div class=\"sk-toggleable__content\"><pre>StandardScaler()</pre></div></div></div></div></div></div></div></div><div class=\"sk-parallel-item\"><div class=\"sk-item\"><div class=\"sk-label-container\"><div class=\"sk-label sk-toggleable\"><input class=\"sk-toggleable__control sk-hidden--visually\" id=\"sk-estimator-id-6\" type=\"checkbox\" ><label for=\"sk-estimator-id-6\" class=\"sk-toggleable__label sk-toggleable__label-arrow\">cat</label><div class=\"sk-toggleable__content\"><pre>Index([&#x27;Gender&#x27;, &#x27;Marital Status&#x27;, &#x27;Education Level&#x27;, &#x27;Occupation&#x27;, &#x27;Location&#x27;,\n",
       "       &#x27;Policy Type&#x27;, &#x27;Policy Start Date&#x27;, &#x27;Customer Feedback&#x27;,\n",
       "       &#x27;Smoking Status&#x27;, &#x27;Exercise Frequency&#x27;, &#x27;Property Type&#x27;],\n",
       "      dtype=&#x27;object&#x27;)</pre></div></div></div><div class=\"sk-serial\"><div class=\"sk-item\"><div class=\"sk-serial\"><div class=\"sk-item\"><div class=\"sk-estimator sk-toggleable\"><input class=\"sk-toggleable__control sk-hidden--visually\" id=\"sk-estimator-id-7\" type=\"checkbox\" ><label for=\"sk-estimator-id-7\" class=\"sk-toggleable__label sk-toggleable__label-arrow\">SimpleImputer</label><div class=\"sk-toggleable__content\"><pre>SimpleImputer(strategy=&#x27;most_frequent&#x27;)</pre></div></div></div><div class=\"sk-item\"><div class=\"sk-estimator sk-toggleable\"><input class=\"sk-toggleable__control sk-hidden--visually\" id=\"sk-estimator-id-8\" type=\"checkbox\" ><label for=\"sk-estimator-id-8\" class=\"sk-toggleable__label sk-toggleable__label-arrow\">OneHotEncoder</label><div class=\"sk-toggleable__content\"><pre>OneHotEncoder(handle_unknown=&#x27;ignore&#x27;)</pre></div></div></div></div></div></div></div></div></div></div><div class=\"sk-item\"><div class=\"sk-estimator sk-toggleable\"><input class=\"sk-toggleable__control sk-hidden--visually\" id=\"sk-estimator-id-9\" type=\"checkbox\" ><label for=\"sk-estimator-id-9\" class=\"sk-toggleable__label sk-toggleable__label-arrow\">XGBRegressor</label><div class=\"sk-toggleable__content\"><pre>XGBRegressor(base_score=None, booster=None, callbacks=None,\n",
       "             colsample_bylevel=None, colsample_bynode=None,\n",
       "             colsample_bytree=None, device=None, early_stopping_rounds=None,\n",
       "             enable_categorical=False, eval_metric=None, feature_types=None,\n",
       "             gamma=None, grow_policy=None, importance_type=None,\n",
       "             interaction_constraints=None, learning_rate=0.1, max_bin=None,\n",
       "             max_cat_threshold=None, max_cat_to_onehot=None,\n",
       "             max_delta_step=None, max_depth=None, max_leaves=None,\n",
       "             min_child_weight=None, missing=nan, monotone_constraints=None,\n",
       "             multi_strategy=None, n_estimators=100, n_jobs=None,\n",
       "             num_parallel_tree=None, random_state=42, ...)</pre></div></div></div></div></div></div></div>"
      ],
      "text/plain": [
       "Pipeline(steps=[('preprocessor',\n",
       "                 ColumnTransformer(transformers=[('num',\n",
       "                                                  Pipeline(steps=[('imputer',\n",
       "                                                                   SimpleImputer(strategy='median')),\n",
       "                                                                  ('scaler',\n",
       "                                                                   StandardScaler())]),\n",
       "                                                  Index(['Age', 'Annual Income', 'Number of Dependents', 'Health Score',\n",
       "       'Previous Claims', 'Vehicle Age', 'Credit Score', 'Insurance Duration'],\n",
       "      dtype='object')),\n",
       "                                                 ('cat',\n",
       "                                                  Pipeline(steps=[('imputer',\n",
       "                                                                   SimpleImp...\n",
       "                              feature_types=None, gamma=None, grow_policy=None,\n",
       "                              importance_type=None,\n",
       "                              interaction_constraints=None, learning_rate=0.1,\n",
       "                              max_bin=None, max_cat_threshold=None,\n",
       "                              max_cat_to_onehot=None, max_delta_step=None,\n",
       "                              max_depth=None, max_leaves=None,\n",
       "                              min_child_weight=None, missing=nan,\n",
       "                              monotone_constraints=None, multi_strategy=None,\n",
       "                              n_estimators=100, n_jobs=None,\n",
       "                              num_parallel_tree=None, random_state=42, ...))])"
      ]
     },
     "execution_count": 10,
     "metadata": {},
     "output_type": "execute_result"
    }
   ],
   "source": [
    "model.fit(X_train, y_train)"
   ]
  },
  {
   "cell_type": "code",
   "execution_count": 11,
   "id": "ff8883de",
   "metadata": {
    "execution": {
     "iopub.execute_input": "2024-12-18T18:08:53.455060Z",
     "iopub.status.busy": "2024-12-18T18:08:53.454679Z",
     "iopub.status.idle": "2024-12-18T18:08:57.844921Z",
     "shell.execute_reply": "2024-12-18T18:08:57.843988Z"
    },
    "papermill": {
     "duration": 4.398965,
     "end_time": "2024-12-18T18:08:57.847925",
     "exception": false,
     "start_time": "2024-12-18T18:08:53.448960",
     "status": "completed"
    },
    "tags": []
   },
   "outputs": [],
   "source": [
    "y_pred = model.predict(X_val)"
   ]
  },
  {
   "cell_type": "code",
   "execution_count": 12,
   "id": "6494b28d",
   "metadata": {
    "execution": {
     "iopub.execute_input": "2024-12-18T18:08:57.860112Z",
     "iopub.status.busy": "2024-12-18T18:08:57.859729Z",
     "iopub.status.idle": "2024-12-18T18:08:57.877725Z",
     "shell.execute_reply": "2024-12-18T18:08:57.876437Z"
    },
    "papermill": {
     "duration": 0.026543,
     "end_time": "2024-12-18T18:08:57.880191",
     "exception": false,
     "start_time": "2024-12-18T18:08:57.853648",
     "status": "completed"
    },
    "tags": []
   },
   "outputs": [
    {
     "name": "stdout",
     "output_type": "stream",
     "text": [
      "Validation RMSLE: 1.1534962837944374\n"
     ]
    }
   ],
   "source": [
    "def rmsle(y_true, y_pred):\n",
    "    return np.sqrt(mean_squared_log_error(y_true, np.maximum(0, y_pred)))\n",
    "\n",
    "val_rmsle = rmsle(y_val, y_pred)\n",
    "print(f\"Validation RMSLE: {val_rmsle}\")"
   ]
  },
  {
   "cell_type": "code",
   "execution_count": 13,
   "id": "b099c10e",
   "metadata": {
    "execution": {
     "iopub.execute_input": "2024-12-18T18:08:57.891131Z",
     "iopub.status.busy": "2024-12-18T18:08:57.890742Z",
     "iopub.status.idle": "2024-12-18T18:09:02.331854Z",
     "shell.execute_reply": "2024-12-18T18:09:02.330749Z"
    },
    "papermill": {
     "duration": 4.449541,
     "end_time": "2024-12-18T18:09:02.334491",
     "exception": false,
     "start_time": "2024-12-18T18:08:57.884950",
     "status": "completed"
    },
    "tags": []
   },
   "outputs": [],
   "source": [
    "X_test = test.drop(columns=[id_col])\n",
    "X_test_prepared = model.named_steps['preprocessor'].transform(X_test)"
   ]
  },
  {
   "cell_type": "code",
   "execution_count": 14,
   "id": "69726b18",
   "metadata": {
    "execution": {
     "iopub.execute_input": "2024-12-18T18:09:02.346593Z",
     "iopub.status.busy": "2024-12-18T18:09:02.345794Z",
     "iopub.status.idle": "2024-12-18T18:09:11.030403Z",
     "shell.execute_reply": "2024-12-18T18:09:11.029456Z"
    },
    "papermill": {
     "duration": 8.69393,
     "end_time": "2024-12-18T18:09:11.033185",
     "exception": false,
     "start_time": "2024-12-18T18:09:02.339255",
     "status": "completed"
    },
    "tags": []
   },
   "outputs": [],
   "source": [
    "test_predictions = model.named_steps['regressor'].predict(X_test_prepared)"
   ]
  },
  {
   "cell_type": "code",
   "execution_count": 15,
   "id": "0d341e41",
   "metadata": {
    "execution": {
     "iopub.execute_input": "2024-12-18T18:09:11.046366Z",
     "iopub.status.busy": "2024-12-18T18:09:11.045967Z",
     "iopub.status.idle": "2024-12-18T18:09:12.236781Z",
     "shell.execute_reply": "2024-12-18T18:09:12.235646Z"
    },
    "papermill": {
     "duration": 1.199935,
     "end_time": "2024-12-18T18:09:12.239249",
     "exception": false,
     "start_time": "2024-12-18T18:09:11.039314",
     "status": "completed"
    },
    "tags": []
   },
   "outputs": [],
   "source": [
    "submission = pd.DataFrame({'id': test['id'], 'Premium Amount': test_predictions})\n",
    "submission.to_csv(\"submission.csv\", index=False)"
   ]
  }
 ],
 "metadata": {
  "kaggle": {
   "accelerator": "none",
   "dataSources": [
    {
     "databundleVersionId": 10305135,
     "sourceId": 84896,
     "sourceType": "competition"
    }
   ],
   "dockerImageVersionId": 30804,
   "isGpuEnabled": false,
   "isInternetEnabled": true,
   "language": "python",
   "sourceType": "notebook"
  },
  "kernelspec": {
   "display_name": "Python 3",
   "language": "python",
   "name": "python3"
  },
  "language_info": {
   "codemirror_mode": {
    "name": "ipython",
    "version": 3
   },
   "file_extension": ".py",
   "mimetype": "text/x-python",
   "name": "python",
   "nbconvert_exporter": "python",
   "pygments_lexer": "ipython3",
   "version": "3.10.14"
  },
  "papermill": {
   "default_parameters": {},
   "duration": 79.056596,
   "end_time": "2024-12-18T18:09:13.267906",
   "environment_variables": {},
   "exception": null,
   "input_path": "__notebook__.ipynb",
   "output_path": "__notebook__.ipynb",
   "parameters": {},
   "start_time": "2024-12-18T18:07:54.211310",
   "version": "2.6.0"
  }
 },
 "nbformat": 4,
 "nbformat_minor": 5
}
